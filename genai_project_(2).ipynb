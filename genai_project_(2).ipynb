{
  "metadata": {
    "kernelspec": {
      "language": "python",
      "display_name": "Python 3",
      "name": "python3"
    },
    "language_info": {
      "name": "python",
      "version": "3.11.13",
      "mimetype": "text/x-python",
      "codemirror_mode": {
        "name": "ipython",
        "version": 3
      },
      "pygments_lexer": "ipython3",
      "nbconvert_exporter": "python",
      "file_extension": ".py"
    },
    "kaggle": {
      "accelerator": "nvidiaTeslaT4",
      "dataSources": [
        {
          "sourceId": 12492267,
          "sourceType": "datasetVersion",
          "datasetId": 7883407
        },
        {
          "sourceId": 12492273,
          "sourceType": "datasetVersion",
          "datasetId": 7883412
        },
        {
          "sourceId": 12498100,
          "sourceType": "datasetVersion",
          "datasetId": 7887635
        }
      ],
      "dockerImageVersionId": 31090,
      "isInternetEnabled": true,
      "language": "python",
      "sourceType": "notebook",
      "isGpuEnabled": true
    },
    "colab": {
      "provenance": []
    }
  },
  "nbformat_minor": 0,
  "nbformat": 4,
  "cells": [
    {
      "cell_type": "markdown",
      "source": [
        "# Words"
      ],
      "metadata": {
        "id": "lgK_E2yfqrBo"
      }
    },
    {
      "cell_type": "code",
      "source": [
        "import pandas as pd\n",
        "import numpy as np\n",
        "import matplotlib.pyplot as plt\n",
        "import seaborn as sns\n",
        "\n",
        "\n",
        "file_path = '/kaggle/input/mergeddata/merged_data.xlsx'\n",
        "print(f\"--- Loading Data from '{file_path}' ---\")\n",
        "\n",
        "try:\n",
        "    token_df = pd.read_excel(file_path)\n",
        "    print(f\"✅ Data loaded successfully.\")\n",
        "except FileNotFoundError:\n",
        "    print(f\"❌ Error: The file '{file_path}' was not found. Please make sure it's in the correct directory.\")\n",
        "    exit()\n",
        "\n",
        "# Initial Sanity Checks ---\n",
        "print(\"\\n--- Initial Inspection ---\")\n",
        "print(f\"DataFrame shape: {token_df.shape}\")\n",
        "\n",
        "print(\"\\nData types and non-null counts:\")\n",
        "token_df.info()\n",
        "\n",
        "print(\"\\nMissing values per column:\")\n",
        "print(token_df.isnull().sum())\n",
        "\n",
        "print(\"\\nFirst 5 rows of the dataset:\")\n",
        "print(token_df.head())\n",
        "\n",
        "\n",
        "print(\"\\n--- Generating Figure 1: Disfluency Label Counts ---\")\n",
        "try:\n",
        "\n",
        "    sns.set_style(\"whitegrid\")\n",
        "    plt.figure(figsize=(10, 6))\n",
        "\n",
        "    # Calculate the sum of each label column\n",
        "    label_columns = ['fp', 'rp', 'rv', 'pw']\n",
        "    label_counts = token_df[label_columns].sum().sort_values(ascending=False)\n",
        "\n",
        "    # Create the bar plot\n",
        "    ax = sns.barplot(x=label_counts.index, y=label_counts.values, palette=\"viridis\")\n",
        "\n",
        "\n",
        "    plt.title('Figure 1: Total Count per Disfluency Type', fontsize=16)\n",
        "    plt.xlabel('Disfluency Type', fontsize=12)\n",
        "    plt.ylabel('Total Word Count', fontsize=12)\n",
        "\n",
        "\n",
        "    for p in ax.patches:\n",
        "        ax.annotate(f'{int(p.get_height())}',\n",
        "                    (p.get_x() + p.get_width() / 2., p.get_height()),\n",
        "                    ha='center', va='center',\n",
        "                    xytext=(0, 9),\n",
        "                    textcoords='offset points',\n",
        "                    fontsize=11)\n",
        "\n",
        "\n",
        "    plt.show()\n",
        "    print(\" Figure 1 generated successfully.\")\n",
        "\n",
        "except KeyError:\n",
        "    print(f\" Error: One or more label columns {label_columns} not found in the DataFrame.\")\n",
        "except Exception as e:\n",
        "    print(f\"An error occurred while generating the plot: {e}\")"
      ],
      "metadata": {
        "trusted": true,
        "execution": {
          "iopub.status.busy": "2025-07-17T12:56:37.583138Z",
          "iopub.execute_input": "2025-07-17T12:56:37.583420Z",
          "iopub.status.idle": "2025-07-17T12:56:48.038843Z",
          "shell.execute_reply.started": "2025-07-17T12:56:37.583394Z",
          "shell.execute_reply": "2025-07-17T12:56:48.038076Z"
        },
        "id": "Qq1k-hYnqrBp",
        "outputId": "e1da5beb-d80e-421d-dd08-1b9e1201ef2d"
      },
      "outputs": [
        {
          "name": "stdout",
          "text": "--- Loading Data from '/kaggle/input/mergeddata/merged_data.xlsx' ---\n✅ Data loaded successfully.\n\n--- Initial Inspection ---\nDataFrame shape: (45570, 12)\n\nData types and non-null counts:\n<class 'pandas.core.frame.DataFrame'>\nRangeIndex: 45570 entries, 0 to 45569\nData columns (total 12 columns):\n #   Column     Non-Null Count  Dtype  \n---  ------     --------------  -----  \n 0   segid      45570 non-null  object \n 1   wordstart  45570 non-null  float64\n 2   wordend    45570 non-null  float64\n 3   word       45570 non-null  object \n 4   fp         45570 non-null  int64  \n 5   rp         45570 non-null  int64  \n 6   rv         45570 non-null  int64  \n 7   pw         45570 non-null  int64  \n 8   segstart   45570 non-null  float64\n 9   segend     45570 non-null  float64\n 10  verbatim   45570 non-null  object \n 11  intended   45544 non-null  object \ndtypes: float64(4), int64(4), object(4)\nmemory usage: 4.2+ MB\n\nMissing values per column:\nsegid         0\nwordstart     0\nwordend       0\nword          0\nfp            0\nrp            0\nrv            0\npw            0\nsegstart      0\nsegend        0\nverbatim      0\nintended     26\ndtype: int64\n\nFirst 5 rows of the dataset:\n     segid  wordstart  wordend   word  fp  rp  rv  pw  segstart  segend  \\\n0  28m_020       0.05     0.36  which   0   1   0   0    210.88  219.55   \n1  28m_020       0.39     0.53     uh   1   0   0   0    210.88  219.55   \n2  28m_020       0.56     0.73  which   0   0   0   0    210.88  219.55   \n3  28m_020       0.78     0.87    has   0   0   0   0    210.88  219.55   \n4  28m_020       0.87     1.12   been   0   0   0   0    210.88  219.55   \n\n                                            verbatim  \\\n0  which uh which has been uh the thing that made...   \n1  which uh which has been uh the thing that made...   \n2  which uh which has been uh the thing that made...   \n3  which uh which has been uh the thing that made...   \n4  which uh which has been uh the thing that made...   \n\n                                            intended  \n0  which has been the thing that made my experien...  \n1  which has been the thing that made my experien...  \n2  which has been the thing that made my experien...  \n3  which has been the thing that made my experien...  \n4  which has been the thing that made my experien...  \n\n--- Generating Figure 1: Disfluency Label Counts ---\n",
          "output_type": "stream"
        },
        {
          "output_type": "display_data",
          "data": {
            "text/plain": "<Figure size 1000x600 with 1 Axes>",
            "image/png": "[encoded data removed]"
          },
          "metadata": {}
        },
        {
          "name": "stdout",
          "text": "✅ Figure 1 generated successfully.\n",
          "output_type": "stream"
        }
      ],
      "execution_count": null
    },
    {
      "cell_type": "code",
      "source": [
        "from sklearn.model_selection import train_test_split\n",
        "\n",
        "# Extract participant ID from the 'segid' column\n",
        "token_df['participant_id'] = token_df['segid'].apply(lambda x: x.split('_')[0])\n",
        "\n",
        "# Get a list of all unique participant IDs\n",
        "unique_participants = token_df['participant_id'].unique()\n",
        "\n",
        "# Split the list of participants\n",
        "train_pids, temp_pids = train_test_split(unique_participants, test_size=0.3, random_state=42)\n",
        "val_pids, test_pids = train_test_split(temp_pids, test_size=0.5, random_state=42)\n",
        "\n",
        "# Create new DataFrames based on the participant lists\n",
        "train_df = token_df[token_df['participant_id'].isin(train_pids)].copy()\n",
        "val_df = token_df[token_df['participant_id'].isin(val_pids)].copy()\n",
        "test_df = token_df[token_df['participant_id'].isin(test_pids)].copy()\n",
        "\n",
        "\n",
        "print(\"--- Data Split Verification ---\")\n",
        "print(f\"Total unique participants: {len(unique_participants)}\")\n",
        "print(f\"Train participants: {len(train_pids)}, Val participants: {len(val_pids)}, Test participants: {len(test_pids)}\")\n",
        "print(\"-\" * 30)\n",
        "print(f\"Train samples: {len(train_df)}\")\n",
        "print(f\"Validation samples: {len(val_df)}\")\n",
        "print(f\"Test samples: {len(test_df)}\")\n",
        "\n",
        "assert len(set(train_pids) & set(val_pids)) == 0\n",
        "assert len(set(train_pids) & set(test_pids)) == 0\n",
        "assert len(set(val_pids) & set(test_pids)) == 0\n",
        "print(\"\\n Participant split is clean. No overlap found.\")"
      ],
      "metadata": {
        "trusted": true,
        "execution": {
          "iopub.status.busy": "2025-07-17T12:56:48.039608Z",
          "iopub.execute_input": "2025-07-17T12:56:48.040008Z",
          "iopub.status.idle": "2025-07-17T12:56:48.213268Z",
          "shell.execute_reply.started": "2025-07-17T12:56:48.039981Z",
          "shell.execute_reply": "2025-07-17T12:56:48.212531Z"
        },
        "id": "abAT20S5qrBq",
        "outputId": "6a226e78-598f-428f-fa4f-1b13413d0269"
      },
      "outputs": [
        {
          "name": "stdout",
          "text": "--- Data Split Verification ---\nTotal unique participants: 37\nTrain participants: 25, Val participants: 6, Test participants: 6\n------------------------------\nTrain samples: 27927\nValidation samples: 9405\nTest samples: 8238\n\n✅ Participant split is clean. No overlap found.\n",
          "output_type": "stream"
        }
      ],
      "execution_count": null
    },
    {
      "cell_type": "code",
      "source": [
        "# Handle missing values\n",
        "print(f\"Missing 'intended' values before handling: {token_df['intended'].isnull().sum()}\")\n",
        "token_df['intended'].fillna(\"\", inplace=True)\n",
        "print(f\"Missing 'intended' values after handling: {token_df['intended'].isnull().sum()}\")\n",
        "\n",
        "\n",
        "# Define a function\n",
        "def group_data(df):\n",
        "    return df.groupby('segid').agg({\n",
        "        'word': list,\n",
        "        'fp': list,\n",
        "        'rp': list,\n",
        "        'rv': list,\n",
        "        'pw': list\n",
        "    }).reset_index()\n",
        "\n",
        "\n",
        "train_grouped_df = group_data(train_df)\n",
        "val_grouped_df = group_data(val_df)\n",
        "test_grouped_df = group_data(test_df)\n",
        "\n",
        "\n",
        "# --- Sanity Check ---\n",
        "print(\"\\n--- Grouped Data Verification ---\")\n",
        "print(\"Data has been grouped by 'segid'. Each row is now a sentence.\")\n",
        "print(f\"Total sentences in training set: {len(train_grouped_df)}\")\n",
        "print(\"\\nFirst 2 rows of the new grouped training data:\")\n",
        "print(train_grouped_df.head(2))"
      ],
      "metadata": {
        "trusted": true,
        "execution": {
          "iopub.status.busy": "2025-07-17T12:56:48.214649Z",
          "iopub.execute_input": "2025-07-17T12:56:48.214872Z",
          "iopub.status.idle": "2025-07-17T12:56:48.548677Z",
          "shell.execute_reply.started": "2025-07-17T12:56:48.214855Z",
          "shell.execute_reply": "2025-07-17T12:56:48.548031Z"
        },
        "id": "eFsyXxsfqrBr",
        "outputId": "33ecd3e4-f779-4ce9-a7f5-8256e3261dd3"
      },
      "outputs": [
        {
          "name": "stdout",
          "text": "Missing 'intended' values before handling: 26\nMissing 'intended' values after handling: 0\n",
          "output_type": "stream"
        },
        {
          "name": "stderr",
          "text": "/tmp/ipykernel_36/3680329987.py:3: FutureWarning: A value is trying to be set on a copy of a DataFrame or Series through chained assignment using an inplace method.\nThe behavior will change in pandas 3.0. This inplace method will never work because the intermediate object on which we are setting values always behaves as a copy.\n\nFor example, when doing 'df[col].method(value, inplace=True)', try using 'df.method({col: value}, inplace=True)' or df[col] = df[col].method(value) instead, to perform the operation inplace on the original object.\n\n\n  token_df['intended'].fillna(\"\", inplace=True)\n",
          "output_type": "stream"
        },
        {
          "name": "stdout",
          "text": "\n--- Grouped Data Verification ---\nData has been grouped by 'segid'. Each row is now a sentence.\nTotal sentences in training set: 2220\n\nFirst 2 rows of the new grouped training data:\n      segid                                               word  \\\n0  24fa_000  [um, i, mean, it's, definitely, affected, my, ...   \n1  24fa_001  [up, until, last, year, i, was, a, co, co, cov...   \n\n                                  fp                                 rp  \\\n0        [1, 0, 0, 0, 0, 0, 0, 0, 0]        [0, 0, 0, 0, 0, 0, 0, 0, 0]   \n1  [0, 0, 0, 0, 0, 0, 0, 0, 0, 0, 0]  [0, 0, 0, 0, 0, 0, 0, 1, 1, 0, 0]   \n\n                                  rv                                 pw  \n0        [0, 0, 0, 0, 0, 0, 0, 0, 0]        [0, 0, 0, 0, 0, 0, 0, 0, 0]  \n1  [0, 0, 0, 0, 0, 0, 0, 0, 0, 0, 0]  [0, 0, 0, 0, 0, 0, 0, 1, 1, 0, 0]  \n",
          "output_type": "stream"
        }
      ],
      "execution_count": null
    },
    {
      "cell_type": "code",
      "source": [
        "import torch\n",
        "from torch.utils.data import Dataset, DataLoader\n",
        "from transformers import BertTokenizerFast\n",
        "\n",
        "# --- Define Constants ---\n",
        "MODEL_NAME = 'bert-base-uncased'\n",
        "MAX_LENGTH = 256 # Increased\n",
        "BATCH_SIZE = 16\n",
        "\n",
        "# --- Load Tokenizer ---\n",
        "tokenizer = BertTokenizerFast.from_pretrained(MODEL_NAME)\n",
        "\n",
        "# --- Define the Token-Level Dataset Class ---\n",
        "class DisfluencyTokenDataset(Dataset):\n",
        "    def __init__(self, dataframe, tokenizer, max_len):\n",
        "        self.len = len(dataframe)\n",
        "        self.data = dataframe\n",
        "        self.tokenizer = tokenizer\n",
        "        self.max_len = max_len\n",
        "\n",
        "    def __getitem__(self, index):\n",
        "\n",
        "        sentence = self.data.iloc[index]\n",
        "        word_list = sentence['word']\n",
        "        labels = list(zip(sentence['fp'], sentence['rp'], sentence['rv'], sentence['pw']))\n",
        "\n",
        "        # Tokenize the word list\n",
        "        encoding = self.tokenizer(word_list,\n",
        "                                  is_split_into_words=True,\n",
        "                                  return_offsets_mapping=True,\n",
        "                                  padding='max_length',\n",
        "                                  truncation=True,\n",
        "                                  max_length=self.max_len)\n",
        "\n",
        "        # Create aligned labels\n",
        "        word_ids = encoding.word_ids()\n",
        "        aligned_labels = np.full(len(word_ids), -100, dtype=int)\n",
        "        label_matrix = np.zeros((len(word_ids), 4), dtype=int)\n",
        "\n",
        "        previous_word_id = None\n",
        "        for i, word_id in enumerate(word_ids):\n",
        "            if word_id is not None and word_id != previous_word_id:\n",
        "\n",
        "                 label_matrix[i] = labels[word_id]\n",
        "            previous_word_id = word_id\n",
        "\n",
        "        # Convert to tensors\n",
        "        item = {key: torch.as_tensor(val) for key, val in encoding.items()}\n",
        "        item['labels'] = torch.as_tensor(label_matrix, dtype=torch.float) # Use float\n",
        "\n",
        "        return item\n",
        "\n",
        "    def __len__(self):\n",
        "        return self.len\n",
        "\n",
        "# --- Create Datasets and DataLoaders ---\n",
        "train_dataset = DisfluencyTokenDataset(train_grouped_df, tokenizer, MAX_LENGTH)\n",
        "val_dataset = DisfluencyTokenDataset(val_grouped_df, tokenizer, MAX_LENGTH)\n",
        "\n",
        "train_loader = DataLoader(train_dataset, batch_size=BATCH_SIZE, shuffle=True)\n",
        "val_loader = DataLoader(val_dataset, batch_size=BATCH_SIZE)\n",
        "\n",
        "# --- Sanity Check ---\n",
        "print(\"--- DataLoader Verification ---\")\n",
        "batch = next(iter(train_loader))\n",
        "print(\"Shape of input_ids:\", batch['input_ids'].shape)\n",
        "print(\"Shape of attention_mask:\", batch['attention_mask'].shape)\n",
        "print(\"Shape of labels:\", batch['labels'].shape)\n",
        "print(\"\\nNote: The shape [16, 256, 4] means (Batch Size, Sequence Length, Num Labels).\")"
      ],
      "metadata": {
        "trusted": true,
        "execution": {
          "iopub.status.busy": "2025-07-17T12:57:03.900751Z",
          "iopub.execute_input": "2025-07-17T12:57:03.901493Z",
          "iopub.status.idle": "2025-07-17T12:57:11.634513Z",
          "shell.execute_reply.started": "2025-07-17T12:57:03.901465Z",
          "shell.execute_reply": "2025-07-17T12:57:11.633823Z"
        },
        "colab": {
          "referenced_widgets": [
            "8c83bad3c5194db5838c47e5bb215fa3",
            "0abc12c96cb54f3cb977cc7cbea62cac",
            "2af9b7eb48b9404097d7f357dbbae0b3",
            "5885eb59511e432386bd64bc2dd01d2a"
          ]
        },
        "id": "_YDsJbBNqrBs",
        "outputId": "2fbafe55-0a5f-4d1e-fd0e-1c91f56efc88"
      },
      "outputs": [
        {
          "output_type": "display_data",
          "data": {
            "text/plain": "tokenizer_config.json:   0%|          | 0.00/48.0 [00:00<?, ?B/s]",
            "application/vnd.jupyter.widget-view+json": {
              "version_major": 2,
              "version_minor": 0,
              "model_id": "8c83bad3c5194db5838c47e5bb215fa3"
            }
          },
          "metadata": {}
        },
        {
          "output_type": "display_data",
          "data": {
            "text/plain": "vocab.txt:   0%|          | 0.00/232k [00:00<?, ?B/s]",
            "application/vnd.jupyter.widget-view+json": {
              "version_major": 2,
              "version_minor": 0,
              "model_id": "0abc12c96cb54f3cb977cc7cbea62cac"
            }
          },
          "metadata": {}
        },
        {
          "output_type": "display_data",
          "data": {
            "text/plain": "tokenizer.json:   0%|          | 0.00/466k [00:00<?, ?B/s]",
            "application/vnd.jupyter.widget-view+json": {
              "version_major": 2,
              "version_minor": 0,
              "model_id": "2af9b7eb48b9404097d7f357dbbae0b3"
            }
          },
          "metadata": {}
        },
        {
          "output_type": "display_data",
          "data": {
            "text/plain": "config.json:   0%|          | 0.00/570 [00:00<?, ?B/s]",
            "application/vnd.jupyter.widget-view+json": {
              "version_major": 2,
              "version_minor": 0,
              "model_id": "5885eb59511e432386bd64bc2dd01d2a"
            }
          },
          "metadata": {}
        },
        {
          "name": "stdout",
          "text": "--- DataLoader Verification ---\nShape of input_ids: torch.Size([16, 256])\nShape of attention_mask: torch.Size([16, 256])\nShape of labels: torch.Size([16, 256, 4])\n\nNote: The shape [16, 256, 4] means (Batch Size, Sequence Length, Num Labels).\n",
          "output_type": "stream"
        }
      ],
      "execution_count": null
    },
    {
      "cell_type": "code",
      "source": [
        "import torch\n",
        "import torch.nn as nn\n",
        "from torch.optim import AdamW\n",
        "from transformers import BertForTokenClassification, get_linear_schedule_with_warmup\n",
        "import matplotlib.pyplot as plt\n",
        "import seaborn as sns\n",
        "\n",
        "# --- Define Constants ---\n",
        "EPOCHS = 10\n",
        "LEARNING_RATE = 3e-5\n",
        "BEST_MODEL_PATH = 'best_token_model_state.bin'\n",
        "\n",
        "# --- Setup Device ---\n",
        "device = torch.device('cuda' if torch.cuda.is_available() else 'cpu')\n",
        "print(f\"Using device: {device}\")\n",
        "\n",
        "# --- Initialize Model ---\n",
        "model = BertForTokenClassification.from_pretrained(\n",
        "    MODEL_NAME,\n",
        "    num_labels=4, # fp, rp, rv, pw\n",
        ")\n",
        "model.to(device)\n",
        "\n",
        "# --- Setup Optimizer and Scheduler ---\n",
        "optimizer = AdamW(model.parameters(), lr=LEARNING_RATE)\n",
        "total_steps = len(train_loader) * EPOCHS\n",
        "scheduler = get_linear_schedule_with_warmup(\n",
        "    optimizer,\n",
        "    num_warmup_steps=0,\n",
        "    num_training_steps=total_steps\n",
        ")\n",
        "\n"
      ],
      "metadata": {
        "trusted": true,
        "execution": {
          "iopub.status.busy": "2025-07-17T12:57:25.659025Z",
          "iopub.execute_input": "2025-07-17T12:57:25.659765Z",
          "iopub.status.idle": "2025-07-17T12:57:44.311924Z",
          "shell.execute_reply.started": "2025-07-17T12:57:25.659738Z",
          "shell.execute_reply": "2025-07-17T12:57:44.311140Z"
        },
        "colab": {
          "referenced_widgets": [
            "381ddf23ec7c4336b4d6dcbe3e106045"
          ]
        },
        "id": "bzL12qs5qrBt",
        "outputId": "e4d5d9da-82ee-4b94-d2a7-d1d1960723f2"
      },
      "outputs": [
        {
          "name": "stderr",
          "text": "2025-07-17 12:57:31.278336: E external/local_xla/xla/stream_executor/cuda/cuda_fft.cc:477] Unable to register cuFFT factory: Attempting to register factory for plugin cuFFT when one has already been registered\nWARNING: All log messages before absl::InitializeLog() is called are written to STDERR\nE0000 00:00:1752757051.463680      36 cuda_dnn.cc:8310] Unable to register cuDNN factory: Attempting to register factory for plugin cuDNN when one has already been registered\nE0000 00:00:1752757051.515418      36 cuda_blas.cc:1418] Unable to register cuBLAS factory: Attempting to register factory for plugin cuBLAS when one has already been registered\n",
          "output_type": "stream"
        },
        {
          "name": "stdout",
          "text": "Using device: cuda\n",
          "output_type": "stream"
        },
        {
          "output_type": "display_data",
          "data": {
            "text/plain": "model.safetensors:   0%|          | 0.00/440M [00:00<?, ?B/s]",
            "application/vnd.jupyter.widget-view+json": {
              "version_major": 2,
              "version_minor": 0,
              "model_id": "381ddf23ec7c4336b4d6dcbe3e106045"
            }
          },
          "metadata": {}
        },
        {
          "name": "stderr",
          "text": "Some weights of BertForTokenClassification were not initialized from the model checkpoint at bert-base-uncased and are newly initialized: ['classifier.bias', 'classifier.weight']\nYou should probably TRAIN this model on a down-stream task to be able to use it for predictions and inference.\n",
          "output_type": "stream"
        }
      ],
      "execution_count": null
    },
    {
      "cell_type": "code",
      "source": [
        "# --- Define Loss Function ---\n",
        "criterion = nn.BCEWithLogitsLoss()\n",
        "\n",
        "# --- Training & Validation Loop ---\n",
        "print(\"\\n--- Starting Model Training ---\")\n",
        "best_validation_loss = float('inf')\n",
        "# Lists to store loss history for plotting\n",
        "train_loss_history = []\n",
        "val_loss_history = []\n",
        "\n",
        "for epoch in range(EPOCHS):\n",
        "    print(f\"\\nEpoch {epoch + 1}/{EPOCHS}\")\n",
        "    print(\"-\" * 30)\n",
        "\n",
        "    # Training\n",
        "    model.train()\n",
        "    total_train_loss = 0\n",
        "    for batch in train_loader:\n",
        "        optimizer.zero_grad()\n",
        "        input_ids = batch['input_ids'].to(device)\n",
        "        attention_mask = batch['attention_mask'].to(device)\n",
        "        labels = batch['labels'].to(device)\n",
        "\n",
        "        # CORRECTED\n",
        "        outputs = model(input_ids, attention_mask=attention_mask)\n",
        "        logits = outputs.logits\n",
        "\n",
        "        # Calculate\n",
        "        active_loss = attention_mask.view(-1) == 1\n",
        "        active_logits = logits.view(-1, 4)[active_loss]\n",
        "        active_labels = labels.view(-1, 4)[active_loss]\n",
        "        loss = criterion(active_logits, active_labels)\n",
        "\n",
        "        total_train_loss += loss.item()\n",
        "        loss.backward()\n",
        "        optimizer.step()\n",
        "        scheduler.step()\n",
        "\n",
        "    avg_train_loss = total_train_loss / len(train_loader)\n",
        "    train_loss_history.append(avg_train_loss)\n",
        "\n",
        "    # Validation\n",
        "    model.eval()\n",
        "    total_val_loss = 0\n",
        "    with torch.no_grad():\n",
        "        for batch in val_loader:\n",
        "            input_ids = batch['input_ids'].to(device)\n",
        "            attention_mask = batch['attention_mask'].to(device)\n",
        "            labels = batch['labels'].to(device)\n",
        "\n",
        "            # CORRECTED\n",
        "            outputs = model(input_ids, attention_mask=attention_mask)\n",
        "            logits = outputs.logits\n",
        "\n",
        "            active_loss = attention_mask.view(-1) == 1\n",
        "            active_logits = logits.view(-1, 4)[active_loss]\n",
        "            active_labels = labels.view(-1, 4)[active_loss]\n",
        "            loss = criterion(active_logits, active_labels)\n",
        "\n",
        "            total_val_loss += loss.item()\n",
        "\n",
        "    avg_val_loss = total_val_loss / len(val_loader)\n",
        "    val_loss_history.append(avg_val_loss)\n",
        "\n",
        "    print(f\"  Average Training Loss: {avg_train_loss:.4f}\")\n",
        "    print(f\"  Average Validation Loss: {avg_val_loss:.4f}\")\n",
        "\n",
        "    # Checkpointing\n",
        "    if avg_val_loss < best_validation_loss:\n",
        "        best_validation_loss = avg_val_loss\n",
        "        torch.save(model.state_dict(), BEST_MODEL_PATH)\n",
        "        print(f\"  New best model saved with validation loss: {avg_val_loss:.4f}\")\n",
        "\n",
        "print(\"\\n--- Training Complete ---\")\n",
        "print(f\" Best model saved to '{BEST_MODEL_PATH}'\")\n",
        "\n"
      ],
      "metadata": {
        "trusted": true,
        "execution": {
          "iopub.status.busy": "2025-07-17T12:57:44.313126Z",
          "iopub.execute_input": "2025-07-17T12:57:44.313695Z",
          "iopub.status.idle": "2025-07-17T13:15:03.177172Z",
          "shell.execute_reply.started": "2025-07-17T12:57:44.313674Z",
          "shell.execute_reply": "2025-07-17T13:15:03.176518Z"
        },
        "id": "16k7SxNLqrBu",
        "outputId": "6f6ae695-3423-4507-8f3d-80a7fb7fd5f8"
      },
      "outputs": [
        {
          "name": "stdout",
          "text": "\n--- Starting Model Training ---\n\nEpoch 1/10\n------------------------------\n  Average Training Loss: 0.1205\n  Average Validation Loss: 0.0425\n  ✨ New best model saved with validation loss: 0.0425\n\nEpoch 2/10\n------------------------------\n  Average Training Loss: 0.0486\n  Average Validation Loss: 0.0354\n  ✨ New best model saved with validation loss: 0.0354\n\nEpoch 3/10\n------------------------------\n  Average Training Loss: 0.0358\n  Average Validation Loss: 0.0338\n  ✨ New best model saved with validation loss: 0.0338\n\nEpoch 4/10\n------------------------------\n  Average Training Loss: 0.0286\n  Average Validation Loss: 0.0329\n  ✨ New best model saved with validation loss: 0.0329\n\nEpoch 5/10\n------------------------------\n  Average Training Loss: 0.0224\n  Average Validation Loss: 0.0341\n\nEpoch 6/10\n------------------------------\n  Average Training Loss: 0.0174\n  Average Validation Loss: 0.0349\n\nEpoch 7/10\n------------------------------\n  Average Training Loss: 0.0142\n  Average Validation Loss: 0.0357\n\nEpoch 8/10\n------------------------------\n  Average Training Loss: 0.0123\n  Average Validation Loss: 0.0363\n\nEpoch 9/10\n------------------------------\n  Average Training Loss: 0.0106\n  Average Validation Loss: 0.0360\n\nEpoch 10/10\n------------------------------\n  Average Training Loss: 0.0097\n  Average Validation Loss: 0.0363\n\n--- Training Complete ---\n✅ Best model saved to 'best_token_model_state.bin'\n",
          "output_type": "stream"
        }
      ],
      "execution_count": null
    },
    {
      "cell_type": "code",
      "source": [
        "# --- Sanity Check: Plotting Loss Curves ---\n",
        "print(\"\\n--- Generating Figure 2: Training and Validation Loss Curves ---\")\n",
        "sns.set_style(\"whitegrid\")\n",
        "plt.figure(figsize=(12, 6))\n",
        "plt.plot(range(1, EPOCHS + 1), train_loss_history, 'b-o', label='Training Loss')\n",
        "plt.plot(range(1, EPOCHS + 1), val_loss_history, 'g-o', label='Validation Loss')\n",
        "plt.title('Figure 2: Training & Validation Loss', fontsize=16)\n",
        "plt.xlabel('Epochs', fontsize=12)\n",
        "plt.ylabel('Loss', fontsize=12)\n",
        "plt.legend(fontsize=12)\n",
        "plt.xticks(range(1, EPOCHS + 1))\n",
        "plt.grid(True)\n",
        "plt.show()\n",
        "print(\"Figure 2 generated successfully.\")"
      ],
      "metadata": {
        "trusted": true,
        "execution": {
          "iopub.status.busy": "2025-07-17T13:15:16.375600Z",
          "iopub.execute_input": "2025-07-17T13:15:16.376195Z",
          "iopub.status.idle": "2025-07-17T13:15:16.634427Z",
          "shell.execute_reply.started": "2025-07-17T13:15:16.376170Z",
          "shell.execute_reply": "2025-07-17T13:15:16.633748Z"
        },
        "id": "XMnXAh2AqrBv",
        "outputId": "f6c891a4-1a6a-499f-f1f1-55f406232b9c"
      },
      "outputs": [
        {
          "name": "stdout",
          "text": "\n--- Generating Figure 2: Training and Validation Loss Curves ---\n",
          "output_type": "stream"
        },
        {
          "output_type": "display_data",
          "data": {
            "text/plain": "<Figure size 1200x600 with 1 Axes>",
            "image/png": "[encoded data removed]"
          },
          "metadata": {}
        },
        {
          "name": "stdout",
          "text": "✅ Figure 2 generated successfully.\n",
          "output_type": "stream"
        }
      ],
      "execution_count": null
    },
    {
      "cell_type": "code",
      "source": [
        "from sklearn.metrics import classification_report\n",
        "\n",
        "# We define the test_dataset and test_loader here again for completeness.\n",
        "test_dataset = DisfluencyTokenDataset(test_grouped_df, tokenizer, MAX_LENGTH)\n",
        "test_loader  = DataLoader(test_dataset, batch_size=BATCH_SIZE)\n",
        "\n",
        "#\n",
        "# Re-initialze\n",
        "model = BertForTokenClassification.from_pretrained(MODEL_NAME, num_labels=4)\n",
        "model.load_state_dict(torch.load(BEST_MODEL_PATH))\n",
        "model.to(device)\n",
        "print(f\" Successfully loaded best model from '{BEST_MODEL_PATH}'\")\n",
        "\n",
        "# Evaluation\n",
        "print(\"\\n--- Evaluating Best Model on the Test Set ---\")\n",
        "model.eval()\n",
        "\n",
        "all_true_labels = []\n",
        "all_predictions = []\n",
        "\n",
        "with torch.no_grad():\n",
        "    for batch in test_loader:\n",
        "        input_ids = batch['input_ids'].to(device)\n",
        "        attention_mask = batch['attention_mask'].to(device)\n",
        "        labels = batch['labels'].to(device)\n",
        "\n",
        "        outputs = model(input_ids, attention_mask=attention_mask)\n",
        "        logits = outputs.logits\n",
        "\n",
        "\n",
        "        active_tokens = attention_mask.view(-1) == 1\n",
        "        active_preds = logits.view(-1, 4)[active_tokens]\n",
        "        active_labels = labels.view(-1, 4)[active_tokens]\n",
        "\n",
        "\n",
        "        predictions = torch.sigmoid(active_preds) > 0.5\n",
        "\n",
        "        all_true_labels.extend(active_labels.cpu().numpy())\n",
        "        all_predictions.extend(predictions.cpu().numpy())\n",
        "\n",
        "# Classification Report\n",
        "label_names = ['fp', 'rp', 'rv', 'pw']\n",
        "\n",
        "report = classification_report(\n",
        "    all_true_labels,\n",
        "    all_predictions,\n",
        "    target_names=label_names,\n",
        "    zero_division=0,\n",
        "    digits=3\n",
        ")\n",
        "\n",
        "print(\"\\n--- Final Classification Report ---\")\n",
        "print(report)"
      ],
      "metadata": {
        "trusted": true,
        "execution": {
          "iopub.status.busy": "2025-07-17T13:16:37.484868Z",
          "iopub.execute_input": "2025-07-17T13:16:37.485189Z",
          "iopub.status.idle": "2025-07-17T13:16:46.226336Z",
          "shell.execute_reply.started": "2025-07-17T13:16:37.485164Z",
          "shell.execute_reply": "2025-07-17T13:16:46.225681Z"
        },
        "id": "l6tybfsBqrBw",
        "outputId": "ca8a7dc4-8831-4aac-a5e7-6b93c322842a"
      },
      "outputs": [
        {
          "name": "stderr",
          "text": "Some weights of BertForTokenClassification were not initialized from the model checkpoint at bert-base-uncased and are newly initialized: ['classifier.bias', 'classifier.weight']\nYou should probably TRAIN this model on a down-stream task to be able to use it for predictions and inference.\n",
          "output_type": "stream"
        },
        {
          "name": "stdout",
          "text": "✅ Successfully loaded best model from 'best_token_model_state.bin'\n\n--- Evaluating Best Model on the Test Set ---\n\n--- Final Classification Report ---\n              precision    recall  f1-score   support\n\n          fp      0.992     1.000     0.996       371\n          rp      0.831     0.857     0.844       624\n          rv      0.429     0.167     0.241       269\n          pw      0.962     0.800     0.874       255\n\n   micro avg      0.865     0.760     0.809      1519\n   macro avg      0.803     0.706     0.739      1519\nweighted avg      0.821     0.760     0.779      1519\n samples avg      0.093     0.090     0.091      1519\n\n\n🎉 This completes the model development and evaluation process! 🎉\n",
          "output_type": "stream"
        }
      ],
      "execution_count": null
    },
    {
      "cell_type": "code",
      "source": [
        "import pandas as pd\n",
        "import torch\n",
        "from transformers import BertForTokenClassification, BertTokenizerFast\n",
        "\n",
        "MODEL_NAME = 'bert-base-uncased'\n",
        "BEST_MODEL_PATH = 'best_token_model_state.bin'\n",
        "MAX_LENGTH = 256\n",
        "\n",
        "# Setup Device\n",
        "device = torch.device('cuda' if torch.cuda.is_available() else 'cpu')\n",
        "tokenizer = BertTokenizerFast.from_pretrained(MODEL_NAME)\n",
        "\n",
        "# Load the trained model\n",
        "model = BertForTokenClassification.from_pretrained(MODEL_NAME, num_labels=4)\n",
        "model.load_state_dict(torch.load(BEST_MODEL_PATH))\n",
        "model.to(device)\n",
        "model.eval()\n",
        "\n",
        "\n",
        "def predict_disfluencies(text: str):\n",
        "    \"\"\"\n",
        "    Takes a raw text sentence and returns a DataFrame with predictions for each word.\n",
        "    \"\"\"\n",
        "    #Prepare\n",
        "    words = text.split()\n",
        "    encoding = tokenizer(words,\n",
        "                         is_split_into_words=True,\n",
        "                         return_tensors=\"pt\",\n",
        "                         padding='max_length',\n",
        "                         truncation=True,\n",
        "                         max_length=MAX_LENGTH)\n",
        "\n",
        "    input_ids = encoding['input_ids'].to(device)\n",
        "    attention_mask = encoding['attention_mask'].to(device)\n",
        "\n",
        "    # 2. Make prediction\n",
        "    with torch.no_grad():\n",
        "        outputs = model(input_ids, attention_mask=attention_mask)\n",
        "        logits = outputs.logits\n",
        "\n",
        "\n",
        "    predictions = torch.sigmoid(logits) > 0.5\n",
        "    predictions = predictions.cpu().numpy()[0]\n",
        "\n",
        "\n",
        "    results = []\n",
        "    word_ids = encoding.word_ids()\n",
        "    previous_word_id = None\n",
        "    for i, word_id in enumerate(word_ids):\n",
        "        # Process only the first sub-token\n",
        "        if word_id is not None and word_id != previous_word_id:\n",
        "            word = words[word_id]\n",
        "            pred = predictions[i]\n",
        "            results.append({\n",
        "                'word': word,\n",
        "                'fp': pred[0],\n",
        "                'rp': pred[1],\n",
        "                'rv': pred[2],\n",
        "                'pw': pred[3]\n",
        "            })\n",
        "        previous_word_id = word_id\n",
        "\n",
        "    return pd.DataFrame(results)\n",
        "\n",
        "\n",
        "# Test\n",
        "test_verbatim_1 = \"which uh which has been uh the thing that made my experience and r relationship to stuttering a bit a bit a a bit different than a lot of the other people i've i've met here\"\n",
        "test_verbatim_2 = \"so i i would never introduce m m myself to people\"\n",
        "\n",
        "print(\"--- Prediction for Verbatim 1 ---\")\n",
        "prediction_df_1 = predict_disfluencies(test_verbatim_1)\n",
        "print(prediction_df_1.to_string())\n",
        "\n",
        "print(\"\\n\\n--- Prediction for Verbatim 2 ---\")\n",
        "prediction_df_2 = predict_disfluencies(test_verbatim_2)\n",
        "print(prediction_df_2.to_string())"
      ],
      "metadata": {
        "trusted": true,
        "execution": {
          "iopub.status.busy": "2025-07-17T13:17:06.984857Z",
          "iopub.execute_input": "2025-07-17T13:17:06.985170Z",
          "iopub.status.idle": "2025-07-17T13:17:08.403724Z",
          "shell.execute_reply.started": "2025-07-17T13:17:06.985145Z",
          "shell.execute_reply": "2025-07-17T13:17:08.402870Z"
        },
        "id": "11_eIrprqrBw",
        "outputId": "99a0e5ae-17be-4efe-a37a-3f0abb609149"
      },
      "outputs": [
        {
          "name": "stderr",
          "text": "Some weights of BertForTokenClassification were not initialized from the model checkpoint at bert-base-uncased and are newly initialized: ['classifier.bias', 'classifier.weight']\nYou should probably TRAIN this model on a down-stream task to be able to use it for predictions and inference.\n",
          "output_type": "stream"
        },
        {
          "name": "stdout",
          "text": "--- Prediction for Verbatim 1 ---\n            word     fp     rp     rv     pw\n0          which  False   True  False  False\n1             uh   True  False  False  False\n2          which  False  False  False  False\n3            has  False  False  False  False\n4           been  False  False   True  False\n5             uh   True  False  False  False\n6            the  False  False  False  False\n7          thing  False  False  False  False\n8           that  False  False  False  False\n9           made  False  False  False  False\n10            my  False  False  False  False\n11    experience  False  False  False  False\n12           and  False  False  False  False\n13             r  False   True  False   True\n14  relationship  False  False  False  False\n15            to  False  False  False  False\n16    stuttering  False  False  False  False\n17             a  False   True  False  False\n18           bit  False   True  False  False\n19             a  False   True  False  False\n20           bit  False   True  False  False\n21             a  False   True  False  False\n22             a  False  False  False  False\n23           bit  False  False  False  False\n24     different  False  False  False  False\n25          than  False  False  False  False\n26             a  False  False  False  False\n27           lot  False  False  False  False\n28            of  False  False  False  False\n29           the  False  False  False  False\n30         other  False  False  False  False\n31        people  False  False  False  False\n32          i've  False   True  False  False\n33          i've  False  False  False  False\n34           met  False  False  False  False\n35          here  False  False  False  False\n\n\n--- Prediction for Verbatim 2 ---\n         word     fp     rp     rv     pw\n0          so  False  False  False  False\n1           i  False   True  False  False\n2           i  False  False  False  False\n3       would  False  False  False  False\n4       never  False  False  False  False\n5   introduce  False  False  False  False\n6           m  False   True  False   True\n7           m  False   True  False   True\n8      myself  False  False  False  False\n9          to  False  False  False  False\n10     people  False  False  False  False\n",
          "output_type": "stream"
        }
      ],
      "execution_count": null
    },
    {
      "cell_type": "markdown",
      "source": [
        "# Inference Code"
      ],
      "metadata": {
        "id": "fustbbnUqrBx"
      }
    },
    {
      "cell_type": "code",
      "source": [
        "#pip install torch pandas transformers\n",
        "import torch\n",
        "import pandas as pd\n",
        "from transformers import BertForTokenClassification, BertTokenizerFast\n",
        "\n",
        "# --- 1. Configuration ---\n",
        "MODEL_NAME = 'bert-base-uncased'\n",
        "BEST_MODEL_PATH = 'best_token_model_state.bin'\n",
        "MAX_LENGTH = 256\n",
        "LABELS = ['fp', 'rp', 'rv', 'pw']\n",
        "\n",
        "# --- 2. Setup Model, Tokenizer, and Device ---\n",
        "print(\"--- Loading model and tokenizer ---\")\n",
        "try:\n",
        "\n",
        "    device = torch.device('cuda' if torch.cuda.is_available() else 'cpu')\n",
        "    print(f\"Using device: {device}\")\n",
        "\n",
        "    # Load the tokenizer\n",
        "    tokenizer = BertTokenizerFast.from_pretrained(MODEL_NAME)\n",
        "\n",
        "    # Initialize a fresh model architecture\n",
        "    model = BertForTokenClassification.from_pretrained(MODEL_NAME, num_labels=len(LABELS))\n",
        "\n",
        "    # Load the saved weights from your best model\n",
        "    model.load_state_dict(torch.load(BEST_MODEL_PATH, map_location=device))\n",
        "\n",
        "    # Move the model to the correct device and set it to evaluation mode\n",
        "    model.to(device)\n",
        "    model.eval()\n",
        "    print(\"Model and tokenizer loaded successfully.\")\n",
        "\n",
        "except FileNotFoundError:\n",
        "    print(f\"ERROR: Model file not found at '{BEST_MODEL_PATH}'.\")\n",
        "    print(\"Please ensure the file exists in the correct directory.\")\n",
        "    exit()\n",
        "except Exception as e:\n",
        "    print(f\"An error occurred during setup: {e}\")\n",
        "    exit()\n",
        "\n",
        "\n",
        "# Prediction Function\n",
        "def predict_disfluencies(text: str):\n",
        "    \"\"\"\n",
        "    Takes a raw text sentence and returns a DataFrame with predictions for each word.\n",
        "    \"\"\"\n",
        "    if not text.strip():\n",
        "        return pd.DataFrame(columns=['word'] + LABELS)\n",
        "\n",
        "    # Prepare the input text\n",
        "    words = text.split()\n",
        "    encoding = tokenizer(words,\n",
        "                         is_split_into_words=True,\n",
        "                         return_tensors=\"pt\",\n",
        "                         padding='max_length',\n",
        "                         truncation=True,\n",
        "                         max_length=MAX_LENGTH)\n",
        "\n",
        "    input_ids = encoding['input_ids'].to(device)\n",
        "    attention_mask = encoding['attention_mask'].to(device)\n",
        "\n",
        "    # Make a prediction\n",
        "    with torch.no_grad():\n",
        "        outputs = model(input_ids, attention_mask=attention_mask)\n",
        "        logits = outputs.logits\n",
        "\n",
        "    # Process the model's output\n",
        "    predictions = torch.sigmoid(logits) > 0.5\n",
        "    predictions = predictions.cpu().numpy()[0]\n",
        "\n",
        "    # Align predictions with the original words\n",
        "    results = []\n",
        "    word_ids = encoding.word_ids()\n",
        "    previous_word_id = None\n",
        "    for i, word_id in enumerate(word_ids):\n",
        "\n",
        "        if word_id is not None and word_id != previous_word_id:\n",
        "            word = words[word_id]\n",
        "            pred = predictions[i]\n",
        "            # Create a dictionary for the word and its predicted labels\n",
        "            result_row = {'word': word}\n",
        "            result_row.update({label: bool(p) for label, p in zip(LABELS, pred)})\n",
        "            results.append(result_row)\n",
        "        previous_word_id = word_id\n",
        "\n",
        "    return pd.DataFrame(results)\n",
        "\n",
        "\n",
        "if __name__ == \"__main__\":\n",
        "    # You can change the text in this variable to test any sentence\n",
        "    test_verbatim = \"so i i would never introduce m m myself to people\"\n",
        "\n",
        "    print(f\"\\n--- Predicting for verbatim: ---\\n'{test_verbatim}'\")\n",
        "\n",
        "    # Get and display the predictions\n",
        "    prediction_df = predict_disfluencies(test_verbatim)\n",
        "\n",
        "    # Use .to_string() to ensure the full table is printed\n",
        "    print(prediction_df.to_string())\n",
        "\n",
        "    # Example of another test\n",
        "    print(\"\\n--- Another example ---\")\n",
        "    another_test = \"which uh which has been uh the thing\"\n",
        "    print(f\"'{another_test}'\")\n",
        "    print(predict_disfluencies(another_test).to_string())"
      ],
      "metadata": {
        "trusted": true,
        "execution": {
          "iopub.status.busy": "2025-07-17T13:17:17.122489Z",
          "iopub.execute_input": "2025-07-17T13:17:17.123023Z",
          "iopub.status.idle": "2025-07-17T13:17:18.587577Z",
          "shell.execute_reply.started": "2025-07-17T13:17:17.123000Z",
          "shell.execute_reply": "2025-07-17T13:17:18.586816Z"
        },
        "id": "S-F6yMmjqrBy",
        "outputId": "6e400223-84ea-4e1e-d51a-b50199455106"
      },
      "outputs": [
        {
          "name": "stdout",
          "text": "--- Loading model and tokenizer ---\nUsing device: cuda\n",
          "output_type": "stream"
        },
        {
          "name": "stderr",
          "text": "Some weights of BertForTokenClassification were not initialized from the model checkpoint at bert-base-uncased and are newly initialized: ['classifier.bias', 'classifier.weight']\nYou should probably TRAIN this model on a down-stream task to be able to use it for predictions and inference.\n",
          "output_type": "stream"
        },
        {
          "name": "stdout",
          "text": "✅ Model and tokenizer loaded successfully.\n\n--- Predicting for verbatim: ---\n'so i i would never introduce m m myself to people'\n         word     fp     rp     rv     pw\n0          so  False  False  False  False\n1           i  False   True  False  False\n2           i  False  False  False  False\n3       would  False  False  False  False\n4       never  False  False  False  False\n5   introduce  False  False  False  False\n6           m  False   True  False   True\n7           m  False   True  False   True\n8      myself  False  False  False  False\n9          to  False  False  False  False\n10     people  False  False  False  False\n\n--- Another example ---\n'which uh which has been uh the thing'\n    word     fp     rp     rv     pw\n0  which  False   True  False  False\n1     uh   True  False  False  False\n2  which  False  False  False  False\n3    has  False  False  False  False\n4   been  False  False  False  False\n5     uh   True  False  False  False\n6    the  False  False  False  False\n7  thing  False  False  False  False\n",
          "output_type": "stream"
        }
      ],
      "execution_count": null
    },
    {
      "cell_type": "markdown",
      "source": [
        "# Hyperparameter (extra)\n",
        "\n"
      ],
      "metadata": {
        "id": "LefiaU8_qrBz"
      }
    },
    {
      "cell_type": "code",
      "source": [
        "import torch\n",
        "import torch.nn as nn\n",
        "from torch.optim import AdamW\n",
        "from transformers import BertForTokenClassification, get_linear_schedule_with_warmup\n",
        "from torch.utils.data import DataLoader\n",
        "import pandas as pd\n",
        "\n",
        "\n",
        "param_grid = {\n",
        "    'learning_rate': [3e-5, 2e-5],\n",
        "    'effective_batch_size': [32]\n",
        "}\n",
        "ACTUAL_BATCH_SIZE = 16\n",
        "EPOCHS = 6\n",
        "\n",
        "def train_with_params(lr, effective_batch_size):\n",
        "    \"\"\"\n",
        "    Trains and evaluates the model with robust memory management.\n",
        "    \"\"\"\n",
        "    print(f\"\\n--- Testing: LR={lr}, Effective Batch Size={effective_batch_size} ---\")\n",
        "\n",
        "    # --- GRADIENT ACCUMULATION ---\n",
        "\n",
        "    accumulation_steps = effective_batch_size // ACTUAL_BATCH_SIZE\n",
        "    print(f\"  (Using actual batch size: {ACTUAL_BATCH_SIZE}, accumulating for {accumulation_steps} steps)\")\n",
        "\n",
        "    train_loader = DataLoader(train_dataset, batch_size=ACTUAL_BATCH_SIZE, shuffle=True)\n",
        "    val_loader = DataLoader(val_dataset, batch_size=ACTUAL_BATCH_SIZE)\n",
        "\n",
        "    model = BertForTokenClassification.from_pretrained(MODEL_NAME, num_labels=4).to(device)\n",
        "    optimizer = AdamW(model.parameters(), lr=lr)\n",
        "\n",
        "    total_steps = len(train_loader) * EPOCHS\n",
        "    scheduler = get_linear_schedule_with_warmup(optimizer, num_warmup_steps=0, num_training_steps=total_steps)\n",
        "    criterion = nn.BCEWithLogitsLoss()\n",
        "\n",
        "    # --- MIXED PRECISION ---\n",
        "\n",
        "    scaler = torch.cuda.amp.GradScaler()\n",
        "\n",
        "    best_validation_loss = float('inf')\n",
        "\n",
        "    for epoch in range(EPOCHS):\n",
        "        model.train()\n",
        "        for i, batch in enumerate(train_loader):\n",
        "            with torch.cuda.amp.autocast():\n",
        "                input_ids = batch['input_ids'].to(device)\n",
        "                attention_mask = batch['attention_mask'].to(device)\n",
        "                labels = batch['labels'].to(device)\n",
        "                outputs = model(input_ids, attention_mask=attention_mask)\n",
        "                logits = outputs.logits\n",
        "\n",
        "                active_loss = attention_mask.view(-1) == 1\n",
        "                loss = criterion(logits.view(-1, 4)[active_loss], labels.view(-1, 4)[active_loss])\n",
        "                loss = loss / accumulation_steps\n",
        "\n",
        "            scaler.scale(loss).backward()\n",
        "\n",
        "\n",
        "            if (i + 1) % accumulation_steps == 0:\n",
        "                scaler.step(optimizer)\n",
        "                scaler.update()\n",
        "                scheduler.step()\n",
        "                optimizer.zero_grad()\n",
        "\n",
        "        # (Validation loop remains mostly the same)\n",
        "        model.eval()\n",
        "        total_val_loss = 0\n",
        "        with torch.no_grad():\n",
        "            for batch in val_loader:\n",
        "                with torch.cuda.amp.autocast():\n",
        "                    input_ids = batch['input_ids'].to(device)\n",
        "                    attention_mask = batch['attention_mask'].to(device)\n",
        "                    labels = batch['labels'].to(device)\n",
        "                    outputs = model(input_ids, attention_mask=attention_mask)\n",
        "                    logits = outputs.logits\n",
        "                    active_loss = attention_mask.view(-1) == 1\n",
        "                    loss = criterion(logits.view(-1, 4)[active_loss], labels.view(-1, 4)[active_loss])\n",
        "                    total_val_loss += loss.item()\n",
        "\n",
        "        avg_val_loss = total_val_loss / len(val_loader)\n",
        "        if avg_val_loss < best_validation_loss:\n",
        "            best_validation_loss = avg_val_loss\n",
        "\n",
        "    print(f\"  Completed run. Best validation loss: {best_validation_loss:.4f}\")\n",
        "    return best_validation_loss\n",
        "\n",
        "#Run the Tuning Loop\n",
        "results = []\n",
        "device = torch.device('cuda' if torch.cuda.is_available() else 'cpu')\n",
        "\n",
        "for lr in param_grid['learning_rate']:\n",
        "    for bs in param_grid['effective_batch_size']:\n",
        "        val_loss = train_with_params(lr, bs)\n",
        "        results.append({\n",
        "            'learning_rate': lr,\n",
        "            'batch_size': bs,\n",
        "            'validation_loss': val_loss\n",
        "        })\n",
        "\n",
        "\n",
        "print(\"\\n--- Hyperparameter Tuning Results ---\")\n",
        "results_df = pd.DataFrame(results)\n",
        "results_df = results_df.sort_values(by='validation_loss', ascending=True)\n",
        "print(results_df.to_string(index=False))\n",
        "\n",
        "best_params = results_df.iloc[0]\n",
        "print(\"\\n Best Hyperparameters Found:\")\n",
        "print(f\"   Learning Rate: {best_params['learning_rate']}\")\n",
        "print(f\"   Batch Size: {best_params['batch_size']}\")"
      ],
      "metadata": {
        "trusted": true,
        "execution": {
          "iopub.status.busy": "2025-07-17T13:25:51.956291Z",
          "iopub.execute_input": "2025-07-17T13:25:51.957061Z",
          "iopub.status.idle": "2025-07-17T13:31:34.773868Z",
          "shell.execute_reply.started": "2025-07-17T13:25:51.957034Z",
          "shell.execute_reply": "2025-07-17T13:31:34.773182Z"
        },
        "id": "yY6GBLzpqrB0",
        "outputId": "f0bffa5d-b0f4-460a-b62b-16b657c3fb8e"
      },
      "outputs": [
        {
          "name": "stdout",
          "text": "\n--- Testing: LR=3e-05, Effective Batch Size=32 ---\n  (Using actual batch size: 16, accumulating for 2 steps)\n",
          "output_type": "stream"
        },
        {
          "name": "stderr",
          "text": "Some weights of BertForTokenClassification were not initialized from the model checkpoint at bert-base-uncased and are newly initialized: ['classifier.bias', 'classifier.weight']\nYou should probably TRAIN this model on a down-stream task to be able to use it for predictions and inference.\n/tmp/ipykernel_36/3895794456.py:41: FutureWarning: `torch.cuda.amp.GradScaler(args...)` is deprecated. Please use `torch.amp.GradScaler('cuda', args...)` instead.\n  scaler = torch.cuda.amp.GradScaler()\n/tmp/ipykernel_36/3895794456.py:48: FutureWarning: `torch.cuda.amp.autocast(args...)` is deprecated. Please use `torch.amp.autocast('cuda', args...)` instead.\n  with torch.cuda.amp.autocast(): # Use mixed precision\n/tmp/ipykernel_36/3895794456.py:73: FutureWarning: `torch.cuda.amp.autocast(args...)` is deprecated. Please use `torch.amp.autocast('cuda', args...)` instead.\n  with torch.cuda.amp.autocast():\nSome weights of BertForTokenClassification were not initialized from the model checkpoint at bert-base-uncased and are newly initialized: ['classifier.bias', 'classifier.weight']\nYou should probably TRAIN this model on a down-stream task to be able to use it for predictions and inference.\n",
          "output_type": "stream"
        },
        {
          "name": "stdout",
          "text": "  Completed run. Best validation loss: 0.0353\n\n--- Testing: LR=2e-05, Effective Batch Size=32 ---\n  (Using actual batch size: 16, accumulating for 2 steps)\n  Completed run. Best validation loss: 0.0343\n\n--- Hyperparameter Tuning Results ---\n learning_rate  batch_size  validation_loss\n       0.00002          32         0.034261\n       0.00003          32         0.035340\n\n✅ Best Hyperparameters Found:\n   Learning Rate: 2e-05\n   Batch Size: 32.0\n",
          "output_type": "stream"
        }
      ],
      "execution_count": null
    },
    {
      "cell_type": "code",
      "source": [
        "import torch\n",
        "import torch.nn as nn\n",
        "from torch.optim import AdamW\n",
        "from transformers import BertForTokenClassification, get_linear_schedule_with_warmup\n",
        "import pandas as pd\n",
        "\n",
        "print(\"--- Calculating Class Weights ---\")\n",
        "# Use the full training set to calculate weights\n",
        "pos_counts = train_df[['fp', 'rp', 'rv', 'pw']].sum()\n",
        "pos_counts = pos_counts.replace(0, 1)\n",
        "# Calculate weight for each class\n",
        "# We will use a simpler inverse frequency method here for stability.\n",
        "weights = pos_counts.sum() / pos_counts\n",
        "# Normalize the weights\n",
        "weights = weights / weights.mean()\n",
        "\n",
        "# Convert weights to a PyTorch tensor\n",
        "device = torch.device('cuda' if torch.cuda.is_available() else 'cpu')\n",
        "class_weights_tensor = torch.tensor(weights.values, dtype=torch.float).to(device)\n",
        "\n",
        "print(\"Calculated Weights:\", {k: round(v, 2) for k, v in zip(pos_counts.index, weights.tolist())})\n",
        "print(\"(Higher weight means the model will focus more on that class)\")\n",
        "\n",
        "\n",
        "# Train with Best Hyperparameters and Class Weights ---\n",
        "BEST_LR = 2e-05\n",
        "EFFECTIVE_BATCH_SIZE = 32\n",
        "ACTUAL_BATCH_SIZE = 16\n",
        "EPOCHS = 10\n",
        "BEST_MODEL_PATH = 'final_weighted_model.bin'\n",
        "\n",
        "\n",
        "# Setup DataLoaders\n",
        "train_loader = DataLoader(train_dataset, batch_size=ACTUAL_BATCH_SIZE, shuffle=True)\n",
        "val_loader = DataLoader(val_dataset, batch_size=ACTUAL_BATCH_SIZE)\n",
        "\n",
        "# Initialize Model & Optimizer\n",
        "model = BertForTokenClassification.from_pretrained(MODEL_NAME, num_labels=4).to(device)\n",
        "optimizer = AdamW(model.parameters(), lr=BEST_LR)\n",
        "total_steps = len(train_loader) * EPOCHS\n",
        "scheduler = get_linear_schedule_with_warmup(optimizer, num_warmup_steps=0, num_training_steps=total_steps)\n",
        "\n",
        "criterion = nn.BCEWithLogitsLoss(pos_weight=class_weights_tensor)\n",
        "scaler = torch.cuda.amp.GradScaler(enabled=(device.type == 'cuda'))\n",
        "accumulation_steps = EFFECTIVE_BATCH_SIZE // ACTUAL_BATCH_SIZE\n",
        "\n",
        "\n",
        "print(\"\\n--- Starting Final Model Training with Weighted Loss ---\")\n",
        "best_validation_loss = float('inf')\n",
        "\n",
        "for epoch in range(EPOCHS):\n",
        "    print(f\"\\nEpoch {epoch + 1}/{EPOCHS}\")\n",
        "    model.train()\n",
        "    for i, batch in enumerate(train_loader):\n",
        "        with torch.amp.autocast(device_type=device.type, enabled=(device.type == 'cuda')):\n",
        "            input_ids = batch['input_ids'].to(device)\n",
        "            attention_mask = batch['attention_mask'].to(device)\n",
        "            labels = batch['labels'].to(device)\n",
        "            outputs = model(input_ids, attention_mask=attention_mask)\n",
        "            logits = outputs.logits\n",
        "            active_loss_mask = attention_mask.view(-1) == 1\n",
        "            loss = criterion(logits.view(-1, 4)[active_loss_mask], labels.view(-1, 4)[active_loss_mask])\n",
        "            loss = loss / accumulation_steps\n",
        "\n",
        "        scaler.scale(loss).backward()\n",
        "        if (i + 1) % accumulation_steps == 0:\n",
        "            scaler.step(optimizer)\n",
        "            scaler.update()\n",
        "            scheduler.step()\n",
        "            optimizer.zero_grad()\n",
        "\n",
        "    # Validation\n",
        "    model.eval()\n",
        "    total_val_loss = 0\n",
        "    with torch.no_grad():\n",
        "        for batch in val_loader:\n",
        "            with torch.amp.autocast(device_type=device.type, enabled=(device.type == 'cuda')):\n",
        "                input_ids = batch['input_ids'].to(device)\n",
        "                attention_mask = batch['attention_mask'].to(device)\n",
        "                labels = batch['labels'].to(device)\n",
        "                outputs = model(input_ids, attention_mask=attention_mask)\n",
        "                logits = outputs.logits\n",
        "                active_loss_mask = attention_mask.view(-1) == 1\n",
        "                loss = criterion(logits.view(-1, 4)[active_loss_mask], labels.view(-1, 4)[active_loss_mask])\n",
        "                total_val_loss += loss.item()\n",
        "\n",
        "    avg_val_loss = total_val_loss / len(val_loader)\n",
        "    print(f\"  Validation Loss: {avg_val_loss:.4f}\")\n",
        "\n",
        "    if avg_val_loss < best_validation_loss:\n",
        "        best_validation_loss = avg_val_loss\n",
        "        torch.save(model.state_dict(), BEST_MODEL_PATH)\n",
        "        print(f\"  ✨ New best model saved.\")\n",
        "\n",
        "print(\"\\n--- Final Training Complete ---\")\n",
        "print(f\" Final optimized model saved to '{BEST_MODEL_PATH}'\")"
      ],
      "metadata": {
        "trusted": true,
        "execution": {
          "iopub.status.busy": "2025-07-17T13:40:59.791867Z",
          "iopub.execute_input": "2025-07-17T13:40:59.792628Z",
          "iopub.status.idle": "2025-07-17T13:45:49.757608Z",
          "shell.execute_reply.started": "2025-07-17T13:40:59.792600Z",
          "shell.execute_reply": "2025-07-17T13:45:49.756700Z"
        },
        "id": "aWANVhX0qrB1",
        "outputId": "432d51f3-bbc9-463b-d6d0-bd0bcc088735"
      },
      "outputs": [
        {
          "name": "stdout",
          "text": "--- Calculating Class Weights ---\nCalculated Weights: {'fp': 1.1, 'rp': 0.53, 'rv': 1.48, 'pw': 0.89}\n(Higher weight means the model will focus more on that class)\n",
          "output_type": "stream"
        },
        {
          "name": "stderr",
          "text": "Some weights of BertForTokenClassification were not initialized from the model checkpoint at bert-base-uncased and are newly initialized: ['classifier.bias', 'classifier.weight']\nYou should probably TRAIN this model on a down-stream task to be able to use it for predictions and inference.\n/tmp/ipykernel_36/2825340827.py:48: FutureWarning: `torch.cuda.amp.GradScaler(args...)` is deprecated. Please use `torch.amp.GradScaler('cuda', args...)` instead.\n  scaler = torch.cuda.amp.GradScaler(enabled=(device.type == 'cuda'))\n",
          "output_type": "stream"
        },
        {
          "name": "stdout",
          "text": "\n--- Starting Final Model Training with Weighted Loss ---\n\nEpoch 1/10\n  Validation Loss: 0.0756\n  ✨ New best model saved.\n\nEpoch 2/10\n  Validation Loss: 0.0449\n  ✨ New best model saved.\n\nEpoch 3/10\n  Validation Loss: 0.0404\n  ✨ New best model saved.\n\nEpoch 4/10\n  Validation Loss: 0.0382\n  ✨ New best model saved.\n\nEpoch 5/10\n  Validation Loss: 0.0395\n\nEpoch 6/10\n  Validation Loss: 0.0353\n  ✨ New best model saved.\n\nEpoch 7/10\n  Validation Loss: 0.0379\n\nEpoch 8/10\n  Validation Loss: 0.0377\n\nEpoch 9/10\n  Validation Loss: 0.0388\n\nEpoch 10/10\n  Validation Loss: 0.0415\n\n--- Final Training Complete ---\n✅ Final optimized model saved to 'final_weighted_model.bin'\n",
          "output_type": "stream"
        }
      ],
      "execution_count": null
    },
    {
      "cell_type": "code",
      "source": [
        "from sklearn.metrics import classification_report\n",
        "import torch\n",
        "from transformers import BertForTokenClassification\n",
        "\n",
        "\n",
        "# We define the test_dataset and test_loader here again for completeness.\n",
        "test_dataset = DisfluencyTokenDataset(test_grouped_df, tokenizer, MAX_LENGTH)\n",
        "test_loader  = DataLoader(test_dataset, batch_size=ACTUAL_BATCH_SIZE)\n",
        "\n",
        "\n",
        "FINAL_MODEL_PATH = 'final_weighted_model.bin'\n",
        "\n",
        "# Re-initialize the model architecture and load the saved weights\n",
        "model = BertForTokenClassification.from_pretrained(MODEL_NAME, num_labels=4)\n",
        "model.load_state_dict(torch.load(FINAL_MODEL_PATH))\n",
        "model.to(device)\n",
        "print(f\" Successfully loaded final weighted model from '{FINAL_MODEL_PATH}'\")\n",
        "\n",
        "\n",
        "print(\"\\n--- Evaluating Final Model on the Test Set ---\")\n",
        "model.eval()\n",
        "\n",
        "all_true_labels = []\n",
        "all_predictions = []\n",
        "\n",
        "with torch.no_grad():\n",
        "    for batch in test_loader:\n",
        "        with torch.amp.autocast(device_type=device.type, enabled=(device.type == 'cuda')):\n",
        "            input_ids = batch['input_ids'].to(device)\n",
        "            attention_mask = batch['attention_mask'].to(device)\n",
        "            labels = batch['labels'].to(device)\n",
        "\n",
        "            outputs = model(input_ids, attention_mask=attention_mask)\n",
        "            logits = outputs.logits\n",
        "\n",
        "            # Get predictions\n",
        "            active_tokens = attention_mask.view(-1) == 1\n",
        "            active_preds = logits.view(-1, 4)[active_tokens]\n",
        "            active_labels = labels.view(-1, 4)[active_tokens]\n",
        "\n",
        "            # Convert logits to binary predictions\n",
        "            predictions = torch.sigmoid(active_preds) > 0.5\n",
        "\n",
        "            all_true_labels.extend(active_labels.cpu().numpy())\n",
        "            all_predictions.extend(predictions.cpu().numpy())\n",
        "\n",
        "#Classification Report ---\n",
        "label_names = ['fp', 'rp', 'rv', 'pw']\n",
        "\n",
        "report = classification_report(\n",
        "    all_true_labels,\n",
        "    all_predictions,\n",
        "    target_names=label_names,\n",
        "    zero_division=0,\n",
        "    digits=3\n",
        ")\n",
        "\n",
        "print(\"\\n--- Final Classification Report (Weighted Model) ---\")\n",
        "print(report)"
      ],
      "metadata": {
        "trusted": true,
        "execution": {
          "iopub.status.busy": "2025-07-17T13:47:24.474881Z",
          "iopub.execute_input": "2025-07-17T13:47:24.475516Z",
          "iopub.status.idle": "2025-07-17T13:47:27.728853Z",
          "shell.execute_reply.started": "2025-07-17T13:47:24.475493Z",
          "shell.execute_reply": "2025-07-17T13:47:27.728208Z"
        },
        "id": "7ALJ3V2AqrB3",
        "outputId": "f12fac65-f1ab-4d6c-db0e-345917df7a9a"
      },
      "outputs": [
        {
          "name": "stderr",
          "text": "Some weights of BertForTokenClassification were not initialized from the model checkpoint at bert-base-uncased and are newly initialized: ['classifier.bias', 'classifier.weight']\nYou should probably TRAIN this model on a down-stream task to be able to use it for predictions and inference.\n",
          "output_type": "stream"
        },
        {
          "name": "stdout",
          "text": "✅ Successfully loaded final weighted model from 'final_weighted_model.bin'\n\n--- Evaluating Final Model on the Test Set ---\n\n--- Final Classification Report (Weighted Model) ---\n              precision    recall  f1-score   support\n\n          fp      0.987     1.000     0.993       371\n          rp      0.887     0.663     0.759       624\n          rv      0.278     0.182     0.220       269\n          pw      0.950     0.824     0.882       255\n\n   micro avg      0.842     0.687     0.757      1519\n   macro avg      0.775     0.667     0.714      1519\nweighted avg      0.814     0.687     0.741      1519\n samples avg      0.081     0.080     0.080      1519\n\n",
          "output_type": "stream"
        }
      ],
      "execution_count": null
    },
    {
      "cell_type": "code",
      "source": [],
      "metadata": {
        "trusted": true,
        "id": "AB283E0RqrB4"
      },
      "outputs": [],
      "execution_count": null
    }
  ]
}